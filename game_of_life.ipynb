{
  "nbformat": 4,
  "nbformat_minor": 0,
  "metadata": {
    "colab": {
      "provenance": [],
      "authorship_tag": "ABX9TyOEbc5EqLynxy8SzxcM9nXE",
      "include_colab_link": true
    },
    "kernelspec": {
      "name": "python3",
      "display_name": "Python 3"
    },
    "language_info": {
      "name": "python"
    }
  },
  "cells": [
    {
      "cell_type": "markdown",
      "metadata": {
        "id": "view-in-github",
        "colab_type": "text"
      },
      "source": [
        "<a href=\"https://colab.research.google.com/github/ashams62/colab_practice/blob/main/game_of_life.ipynb\" target=\"_parent\"><img src=\"https://colab.research.google.com/assets/colab-badge.svg\" alt=\"Open In Colab\"/></a>"
      ]
    },
    {
      "cell_type": "code",
      "execution_count": 330,
      "metadata": {
        "id": "f1CbP-cbq2Vi"
      },
      "outputs": [],
      "source": [
        "import numpy as np\n",
        "from matplotlib import pyplot as plt\n",
        "import time\n",
        "from IPython.display import clear_output\n",
        "from time import sleep\n",
        "import random"
      ]
    },
    {
      "cell_type": "code",
      "source": [
        "size= int(input('what is the size?'))\n",
        "universe = np.zeros((size,size))\n",
        "for i in [random.randint(0,universe.shape[0]-1) for _ in range(size//2)]:\n",
        "  for j in [random.randint(0,universe.shape[0]-1) for _  in range(size//2)]:\n",
        "    universe[i,j]=1"
      ],
      "metadata": {
        "id": "-h_DNxwErD78",
        "colab": {
          "base_uri": "https://localhost:8080/"
        },
        "outputId": "b15153f7-c228-4ce5-f744-56b095df4174"
      },
      "execution_count": 331,
      "outputs": [
        {
          "name": "stdout",
          "output_type": "stream",
          "text": [
            "what is the size?20\n"
          ]
        }
      ]
    },
    {
      "cell_type": "code",
      "source": [
        "universe.shape"
      ],
      "metadata": {
        "colab": {
          "base_uri": "https://localhost:8080/"
        },
        "id": "KAWlu5CHem7A",
        "outputId": "c4914bb3-aae4-4af4-d57d-cd751dc9efab"
      },
      "execution_count": 332,
      "outputs": [
        {
          "output_type": "execute_result",
          "data": {
            "text/plain": [
              "(20, 20)"
            ]
          },
          "metadata": {},
          "execution_count": 332
        }
      ]
    },
    {
      "cell_type": "code",
      "source": [
        "plt.imshow(universe, cmap=\"Greys\")"
      ],
      "metadata": {
        "colab": {
          "base_uri": "https://localhost:8080/",
          "height": 282
        },
        "id": "Ec3FUvVj9JVW",
        "outputId": "1ffe3663-2e13-4eb8-e86f-384bf571e6f1"
      },
      "execution_count": 333,
      "outputs": [
        {
          "output_type": "execute_result",
          "data": {
            "text/plain": [
              "<matplotlib.image.AxesImage at 0x7ff73ce24910>"
            ]
          },
          "metadata": {},
          "execution_count": 333
        },
        {
          "output_type": "display_data",
          "data": {
            "text/plain": [
              "<Figure size 432x288 with 1 Axes>"
            ],
            "image/png": "[encoded data removed]"
          },
          "metadata": {
            "needs_background": "light"
          }
        }
      ]
    },
    {
      "cell_type": "code",
      "source": [
        "def live_cell (cell: tuple , universe: np.array):\n",
        "  lc=0\n",
        "  for i in range (cell[0]-1, cell[0]+2):\n",
        "    for j in range (cell[1]-1, cell[1]+2):\n",
        "      if (i>=0) and (i<universe.shape[0]) and (j>=0) and (j<universe.shape[1]):\n",
        "        if universe[i,j] == 1:\n",
        "          lc= lc+1\n",
        "      else:\n",
        "        continue\n",
        "  if universe[cell[0], cell[1]] == 1:\n",
        "    lc=lc-1\n",
        "  return lc"
      ],
      "metadata": {
        "id": "SeDMocAi9Qf_"
      },
      "execution_count": 334,
      "outputs": []
    },
    {
      "cell_type": "code",
      "source": [
        "def neighbor_status (universe:np.array):\n",
        "  no_live_neighbor= np.zeros(universe.shape)\n",
        "  for i in range (0, universe.shape[0]):\n",
        "    for j in range ( 0, universe.shape[1]):\n",
        "      no_live_neighbor[i,j]= live_cell ((i,j), universe)\n",
        "  return no_live_neighbor"
      ],
      "metadata": {
        "id": "Ur5Y3tSpkDkr"
      },
      "execution_count": 335,
      "outputs": []
    },
    {
      "cell_type": "code",
      "source": [
        "# lc_map = neighbor_status(universe)\n",
        "# plt.imshow(lc_map, cmap=\"jet\")\n",
        "# plt.colorbar()"
      ],
      "metadata": {
        "id": "E-gP90HyMkuR"
      },
      "execution_count": 336,
      "outputs": []
    },
    {
      "cell_type": "code",
      "source": [
        "def next_world (lc_map:np.array, universe: np.array):\n",
        "    new_universe = np.zeros(lc_map.shape)\n",
        "    for i in range (0, lc_map.shape[0]):\n",
        "      for j in range ( 0, lc_map.shape[1]):\n",
        "        if (universe[i,j] == 1) and (lc_map[i,j] == 2):\n",
        "          new_universe[i,j] = 1\n",
        "        if (universe[i,j] == 1) and (lc_map[i,j] == 3):\n",
        "          new_universe[i,j] = 1\n",
        "        if (universe[i,j] == 0) and (lc_map[i,j] == 3):\n",
        "          new_universe[i,j] = 1\n",
        "        else:\n",
        "          new_universe[i,j] = 0\n",
        "    return new_universe\n"
      ],
      "metadata": {
        "id": "WZV17Z2u62Wo"
      },
      "execution_count": 337,
      "outputs": []
    },
    {
      "cell_type": "code",
      "source": [
        "# new_universe_2 = next_world(lc_map,universe)\n",
        "# plt.imshow(new_universe_2, cmap=\"jet\")\n",
        "# plt.colorbar()"
      ],
      "metadata": {
        "id": "igswfpAeNivH"
      },
      "execution_count": 338,
      "outputs": []
    },
    {
      "cell_type": "code",
      "source": [
        "go= 1\n",
        "while go > 0:\n",
        "  lc_map = neighbor_status(universe)\n",
        "  new_universe_2 = next_world(lc_map,universe)\n",
        "  plt.imshow(new_universe_2, cmap=\"jet\")\n",
        "  plt.show()\n",
        "  sleep(0.2)\n",
        "  clear_output(wait=True)\n",
        "  universe = new_universe_2\n",
        "  go = 0\n",
        "  for i in range (0, lc_map.shape[0]):\n",
        "    for j in range (0, lc_map.shape[1]):\n",
        "      if universe[i,j] != 0:\n",
        "        go = go + 1"
      ],
      "metadata": {
        "colab": {
          "base_uri": "https://localhost:8080/",
          "height": 265
        },
        "id": "Qtt8nsCQYwEM",
        "outputId": "e0dade7c-05ac-423d-cfdb-17feb2a888bc"
      },
      "execution_count": 339,
      "outputs": [
        {
          "output_type": "display_data",
          "data": {
            "text/plain": [
              "<Figure size 432x288 with 1 Axes>"
            ],
            "image/png": "[encoded data removed]"
          },
          "metadata": {
            "needs_background": "light"
          }
        }
      ]
    },
    {
      "cell_type": "code",
      "source": [],
      "metadata": {
        "id": "WfSNeuzYexk4"
      },
      "execution_count": null,
      "outputs": []
    }
  ]
}